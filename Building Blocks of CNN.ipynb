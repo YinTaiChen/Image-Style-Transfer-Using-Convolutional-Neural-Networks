{
 "cells": [
  {
   "cell_type": "markdown",
   "metadata": {},
   "source": [
    "# Building Blocks of CNN"
   ]
  },
  {
   "cell_type": "markdown",
   "metadata": {},
   "source": [
    "Author: YinTaiChen"
   ]
  },
  {
   "cell_type": "markdown",
   "metadata": {},
   "source": [
    "Reference: [torch.nn](http://pytorch.org/docs/master/nn.html)"
   ]
  },
  {
   "cell_type": "code",
   "execution_count": 1,
   "metadata": {},
   "outputs": [],
   "source": [
    "import torch"
   ]
  },
  {
   "cell_type": "code",
   "execution_count": 2,
   "metadata": {},
   "outputs": [],
   "source": [
    "input = torch.autograd.Variable(torch.randn(1,3,4,4))"
   ]
  },
  {
   "cell_type": "code",
   "execution_count": 3,
   "metadata": {},
   "outputs": [
    {
     "name": "stdout",
     "output_type": "stream",
     "text": [
      "Variable containing:\n",
      "(0 ,0 ,.,.) = \n",
      "  1.2798  0.3588 -1.5923 -0.9687\n",
      " -0.9150  1.5680  0.2128  0.2437\n",
      " -0.4046 -1.0084 -0.1616 -0.0217\n",
      "  0.9114 -1.6732 -2.0944  0.3840\n",
      "\n",
      "(0 ,1 ,.,.) = \n",
      " -0.4220 -0.5209 -0.7820 -1.1145\n",
      "  0.1049 -1.2499 -0.0909  1.5569\n",
      "  0.2416 -0.4059 -1.9564  0.6924\n",
      "  0.3441  0.6514 -0.6443 -1.0650\n",
      "\n",
      "(0 ,2 ,.,.) = \n",
      "  0.7182 -1.4378 -0.6192 -0.4852\n",
      "  1.6434  0.3220 -0.2401 -0.3937\n",
      " -1.0070  1.6088  1.2479 -0.4043\n",
      "  0.2195 -0.8949 -0.5537 -0.8700\n",
      "[torch.FloatTensor of size 1x3x4x4]\n",
      "\n"
     ]
    }
   ],
   "source": [
    "print(input)"
   ]
  },
  {
   "cell_type": "markdown",
   "metadata": {},
   "source": [
    "## torch.nn.Conv2d"
   ]
  },
  {
   "cell_type": "code",
   "execution_count": 4,
   "metadata": {},
   "outputs": [],
   "source": [
    "conv_layer = torch.nn.Conv2d(in_channels=3, out_channels=4, kernel_size=3, stride=1, padding=1)"
   ]
  },
  {
   "cell_type": "code",
   "execution_count": 5,
   "metadata": {},
   "outputs": [
    {
     "data": {
      "text/plain": [
       "Variable containing:\n",
       "(0 ,0 ,.,.) = \n",
       " -0.0555 -0.0032 -0.3616 -0.4676\n",
       " -0.2063  0.4541  0.2990  0.5751\n",
       "  0.1900 -0.0137 -0.1123  0.3812\n",
       "  0.4588  0.4183 -0.6179  0.1986\n",
       "\n",
       "(0 ,1 ,.,.) = \n",
       " -0.4168 -0.3231  0.4309  0.1524\n",
       "  0.9352 -1.1267 -0.6464 -0.0972\n",
       "  1.0006  0.4973 -0.9259 -0.5571\n",
       " -0.7994  0.5131  0.7833 -0.7524\n",
       "\n",
       "(0 ,2 ,.,.) = \n",
       "  0.8648  0.1081 -0.4309 -0.4940\n",
       "  0.1926  0.6013 -0.0795 -0.0332\n",
       " -0.6376  0.1268  0.9780  0.2445\n",
       " -0.0956 -0.3246  0.0740  0.3514\n",
       "\n",
       "(0 ,3 ,.,.) = \n",
       " -0.1168 -0.1317 -0.6659 -0.7897\n",
       " -0.4480  0.5770  0.3871 -0.7838\n",
       "  0.3146  0.1165  0.1023  0.1097\n",
       "  0.3662 -0.5825 -1.3846 -0.4165\n",
       "[torch.FloatTensor of size 1x4x4x4]"
      ]
     },
     "execution_count": 5,
     "metadata": {},
     "output_type": "execute_result"
    }
   ],
   "source": [
    "conv_layer(input)"
   ]
  },
  {
   "cell_type": "markdown",
   "metadata": {},
   "source": [
    "## torch.nn.MaxPool2d"
   ]
  },
  {
   "cell_type": "code",
   "execution_count": 6,
   "metadata": {},
   "outputs": [],
   "source": [
    "pool_layer = torch.nn.MaxPool2d(kernel_size=2, stride=2)"
   ]
  },
  {
   "cell_type": "code",
   "execution_count": 7,
   "metadata": {},
   "outputs": [
    {
     "data": {
      "text/plain": [
       "Variable containing:\n",
       "(0 ,0 ,.,.) = \n",
       "  1.5680  0.2437\n",
       "  0.9114  0.3840\n",
       "\n",
       "(0 ,1 ,.,.) = \n",
       "  0.1049  1.5569\n",
       "  0.6514  0.6924\n",
       "\n",
       "(0 ,2 ,.,.) = \n",
       "  1.6434 -0.2401\n",
       "  1.6088  1.2479\n",
       "[torch.FloatTensor of size 1x3x2x2]"
      ]
     },
     "execution_count": 7,
     "metadata": {},
     "output_type": "execute_result"
    }
   ],
   "source": [
    "pool_layer(input)"
   ]
  },
  {
   "cell_type": "markdown",
   "metadata": {},
   "source": [
    "## torch.nn.ReLU"
   ]
  },
  {
   "cell_type": "code",
   "execution_count": 8,
   "metadata": {},
   "outputs": [],
   "source": [
    "relu_layer = torch.nn.ReLU()"
   ]
  },
  {
   "cell_type": "code",
   "execution_count": 9,
   "metadata": {},
   "outputs": [
    {
     "data": {
      "text/plain": [
       "Variable containing:\n",
       "(0 ,0 ,.,.) = \n",
       "  1.2798  0.3588  0.0000  0.0000\n",
       "  0.0000  1.5680  0.2128  0.2437\n",
       "  0.0000  0.0000  0.0000  0.0000\n",
       "  0.9114  0.0000  0.0000  0.3840\n",
       "\n",
       "(0 ,1 ,.,.) = \n",
       "  0.0000  0.0000  0.0000  0.0000\n",
       "  0.1049  0.0000  0.0000  1.5569\n",
       "  0.2416  0.0000  0.0000  0.6924\n",
       "  0.3441  0.6514  0.0000  0.0000\n",
       "\n",
       "(0 ,2 ,.,.) = \n",
       "  0.7182  0.0000  0.0000  0.0000\n",
       "  1.6434  0.3220  0.0000  0.0000\n",
       "  0.0000  1.6088  1.2479  0.0000\n",
       "  0.2195  0.0000  0.0000  0.0000\n",
       "[torch.FloatTensor of size 1x3x4x4]"
      ]
     },
     "execution_count": 9,
     "metadata": {},
     "output_type": "execute_result"
    }
   ],
   "source": [
    "relu_layer(input)"
   ]
  },
  {
   "cell_type": "markdown",
   "metadata": {},
   "source": [
    "## torch.nn.BatchNorm2d"
   ]
  },
  {
   "cell_type": "code",
   "execution_count": 10,
   "metadata": {},
   "outputs": [],
   "source": [
    "norm_layer = torch.nn.BatchNorm2d(num_features=3)"
   ]
  },
  {
   "cell_type": "code",
   "execution_count": 11,
   "metadata": {},
   "outputs": [
    {
     "data": {
      "text/plain": [
       "Variable containing:\n",
       "(0 ,0 ,.,.) = \n",
       "  0.6146  0.2428 -0.5449 -0.2931\n",
       " -0.2715  0.7309  0.1838  0.1963\n",
       " -0.0654 -0.3092  0.0327  0.0892\n",
       "  0.4659 -0.5776 -0.7476  0.2529\n",
       "\n",
       "(0 ,1 ,.,.) = \n",
       " -0.1087 -0.1909 -0.4080 -0.6844\n",
       "  0.3294 -0.7970  0.1666  1.5365\n",
       "  0.4430 -0.0953 -1.3843  0.8178\n",
       "  0.5282  0.7838 -0.2935 -0.6432\n",
       "\n",
       "(0 ,2 ,.,.) = \n",
       "  0.5458 -0.9441 -0.3784 -0.2858\n",
       "  1.1852  0.2720 -0.1164 -0.2225\n",
       " -0.6463  1.1612  0.9118 -0.2299\n",
       "  0.2012 -0.5689 -0.3331 -0.5517\n",
       "[torch.FloatTensor of size 1x3x4x4]"
      ]
     },
     "execution_count": 11,
     "metadata": {},
     "output_type": "execute_result"
    }
   ],
   "source": [
    "norm_layer(input)"
   ]
  }
 ],
 "metadata": {
  "kernelspec": {
   "display_name": "Python 3",
   "language": "python",
   "name": "python3"
  },
  "language_info": {
   "codemirror_mode": {
    "name": "ipython",
    "version": 3
   },
   "file_extension": ".py",
   "mimetype": "text/x-python",
   "name": "python",
   "nbconvert_exporter": "python",
   "pygments_lexer": "ipython3",
   "version": "3.5.2"
  }
 },
 "nbformat": 4,
 "nbformat_minor": 2
}
