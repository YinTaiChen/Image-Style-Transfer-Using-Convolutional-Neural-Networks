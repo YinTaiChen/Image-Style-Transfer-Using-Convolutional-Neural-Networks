{
 "cells": [
  {
   "cell_type": "markdown",
   "metadata": {},
   "source": [
    "# Building Blocks of CNN"
   ]
  },
  {
   "cell_type": "markdown",
   "metadata": {},
   "source": [
    "Author: YinTaiChen"
   ]
  },
  {
   "cell_type": "markdown",
   "metadata": {},
   "source": [
    "Reference: [torch.nn](http://pytorch.org/docs/master/nn.html)"
   ]
  },
  {
   "cell_type": "code",
   "execution_count": 1,
   "metadata": {},
   "outputs": [],
   "source": [
    "import torch"
   ]
  },
  {
   "cell_type": "code",
   "execution_count": 2,
   "metadata": {},
   "outputs": [],
   "source": [
    "input = torch.autograd.Variable(torch.randn(1,3,4,4))"
   ]
  },
  {
   "cell_type": "code",
   "execution_count": 3,
   "metadata": {},
   "outputs": [
    {
     "name": "stdout",
     "output_type": "stream",
     "text": [
      "Variable containing:\n",
      "(0 ,0 ,.,.) = \n",
      " -0.8328 -1.0966  0.3721  0.1419\n",
      "  0.4698 -0.2768 -0.7451 -1.1478\n",
      "  0.8248  1.1910  0.1647  0.4873\n",
      "  0.0524  0.5864 -0.2817  0.3766\n",
      "\n",
      "(0 ,1 ,.,.) = \n",
      " -0.8011  0.2117 -1.4487 -0.8195\n",
      " -1.3470  0.1665 -0.0720 -0.4562\n",
      "  0.2867 -0.9084 -0.9062 -1.1398\n",
      "  0.2397 -0.7713 -1.6232  0.4983\n",
      "\n",
      "(0 ,2 ,.,.) = \n",
      "  1.8574 -0.9186 -0.4974  0.6436\n",
      " -1.1587  1.2548  0.8174 -0.3964\n",
      "  0.8490 -1.0082  1.1398  0.1700\n",
      " -0.4526 -2.1763  1.1226 -0.1272\n",
      "[torch.FloatTensor of size 1x3x4x4]\n",
      "\n"
     ]
    }
   ],
   "source": [
    "print(input)"
   ]
  },
  {
   "cell_type": "markdown",
   "metadata": {},
   "source": [
    "## torch.nn.Conv2d"
   ]
  },
  {
   "cell_type": "code",
   "execution_count": 4,
   "metadata": {},
   "outputs": [],
   "source": [
    "conv_layer = torch.nn.Conv2d(in_channels=3, out_channels=4, kernel_size=3, stride=1, padding=1)"
   ]
  },
  {
   "cell_type": "code",
   "execution_count": 5,
   "metadata": {},
   "outputs": [
    {
     "data": {
      "text/plain": [
       "Variable containing:\n",
       "(0 ,0 ,.,.) = \n",
       "  0.8221 -0.6300 -0.0490  0.4500\n",
       " -0.0718  0.8009  0.2808  0.3655\n",
       "  0.2530  0.3620  0.1009  0.3075\n",
       " -0.4952 -0.3278  0.5152 -0.0565\n",
       "\n",
       "(0 ,1 ,.,.) = \n",
       " -0.5303 -0.6599  0.0394  0.0030\n",
       "  0.1944  0.5226 -0.8799  0.0358\n",
       " -0.3952  0.0416 -0.0841 -0.2609\n",
       " -0.3473  0.1103 -0.3405  0.2468\n",
       "\n",
       "(0 ,2 ,.,.) = \n",
       "  0.0100  0.8001 -0.2636 -0.1990\n",
       "  0.1877 -0.0401  0.6124  0.0753\n",
       " -0.2531  0.2407 -0.2411  0.1292\n",
       " -0.1585 -0.0375 -0.5674  0.0965\n",
       "\n",
       "(0 ,3 ,.,.) = \n",
       "  0.5842  0.5629  0.8884  0.7734\n",
       "  0.1510  0.4311  0.3369  0.3984\n",
       " -0.1178 -0.0447  0.7735  0.3142\n",
       " -0.0078 -0.4454  0.2244 -0.2538\n",
       "[torch.FloatTensor of size 1x4x4x4]"
      ]
     },
     "execution_count": 5,
     "metadata": {},
     "output_type": "execute_result"
    }
   ],
   "source": [
    "conv_layer(input)"
   ]
  },
  {
   "cell_type": "markdown",
   "metadata": {},
   "source": [
    "## torch.nn.MaxPool2d"
   ]
  },
  {
   "cell_type": "code",
   "execution_count": 6,
   "metadata": {},
   "outputs": [],
   "source": [
    "pool_layer = torch.nn.MaxPool2d(kernel_size=2, stride=2)"
   ]
  },
  {
   "cell_type": "code",
   "execution_count": 7,
   "metadata": {},
   "outputs": [
    {
     "data": {
      "text/plain": [
       "Variable containing:\n",
       "(0 ,0 ,.,.) = \n",
       "  0.4698  0.3721\n",
       "  1.1910  0.4873\n",
       "\n",
       "(0 ,1 ,.,.) = \n",
       "  0.2117 -0.0720\n",
       "  0.2867  0.4983\n",
       "\n",
       "(0 ,2 ,.,.) = \n",
       "  1.8574  0.8174\n",
       "  0.8490  1.1398\n",
       "[torch.FloatTensor of size 1x3x2x2]"
      ]
     },
     "execution_count": 7,
     "metadata": {},
     "output_type": "execute_result"
    }
   ],
   "source": [
    "pool_layer(input)"
   ]
  },
  {
   "cell_type": "markdown",
   "metadata": {},
   "source": [
    "## torch.nn.ReLU"
   ]
  },
  {
   "cell_type": "code",
   "execution_count": 8,
   "metadata": {},
   "outputs": [],
   "source": [
    "relu_layer = torch.nn.ReLU()"
   ]
  },
  {
   "cell_type": "code",
   "execution_count": 9,
   "metadata": {},
   "outputs": [
    {
     "data": {
      "text/plain": [
       "Variable containing:\n",
       "(0 ,0 ,.,.) = \n",
       "  0.0000  0.0000  0.3721  0.1419\n",
       "  0.4698  0.0000  0.0000  0.0000\n",
       "  0.8248  1.1910  0.1647  0.4873\n",
       "  0.0524  0.5864  0.0000  0.3766\n",
       "\n",
       "(0 ,1 ,.,.) = \n",
       "  0.0000  0.2117  0.0000  0.0000\n",
       "  0.0000  0.1665  0.0000  0.0000\n",
       "  0.2867  0.0000  0.0000  0.0000\n",
       "  0.2397  0.0000  0.0000  0.4983\n",
       "\n",
       "(0 ,2 ,.,.) = \n",
       "  1.8574  0.0000  0.0000  0.6436\n",
       "  0.0000  1.2548  0.8174  0.0000\n",
       "  0.8490  0.0000  1.1398  0.1700\n",
       "  0.0000  0.0000  1.1226  0.0000\n",
       "[torch.FloatTensor of size 1x3x4x4]"
      ]
     },
     "execution_count": 9,
     "metadata": {},
     "output_type": "execute_result"
    }
   ],
   "source": [
    "relu_layer(input)"
   ]
  },
  {
   "cell_type": "markdown",
   "metadata": {},
   "source": [
    "## torch.nn.Linear"
   ]
  },
  {
   "cell_type": "code",
   "execution_count": 10,
   "metadata": {},
   "outputs": [],
   "source": [
    "fully_connected = torch.nn.Linear(in_features=48, out_features=10)"
   ]
  },
  {
   "cell_type": "code",
   "execution_count": 11,
   "metadata": {},
   "outputs": [],
   "source": [
    "x = input.view(input.size(0), 3*4*4)"
   ]
  },
  {
   "cell_type": "code",
   "execution_count": 12,
   "metadata": {},
   "outputs": [
    {
     "data": {
      "text/plain": [
       "Variable containing:\n",
       "-0.8234  0.2219 -0.4085 -0.0292 -0.0634  0.8782 -0.1281 -0.5333  0.2692 -0.0931\n",
       "[torch.FloatTensor of size 1x10]"
      ]
     },
     "execution_count": 12,
     "metadata": {},
     "output_type": "execute_result"
    }
   ],
   "source": [
    "fully_connected(x)"
   ]
  },
  {
   "cell_type": "markdown",
   "metadata": {},
   "source": [
    "## torch.nn.BatchNorm2d"
   ]
  },
  {
   "cell_type": "code",
   "execution_count": 13,
   "metadata": {},
   "outputs": [],
   "source": [
    "norm_layer = torch.nn.BatchNorm2d(num_features=3)"
   ]
  },
  {
   "cell_type": "code",
   "execution_count": 14,
   "metadata": {},
   "outputs": [
    {
     "data": {
      "text/plain": [
       "Variable containing:\n",
       "(0 ,0 ,.,.) = \n",
       " -0.1708 -0.2238  0.0711  0.0249\n",
       "  0.0908 -0.0592 -0.1532 -0.2341\n",
       "  0.1620  0.2356  0.0295  0.0943\n",
       "  0.0069  0.1142 -0.0602  0.0720\n",
       "\n",
       "(0 ,1 ,.,.) = \n",
       " -0.0893  0.2791 -0.3249 -0.0960\n",
       " -0.2879  0.2627  0.1759  0.0362\n",
       "  0.3064 -0.1283 -0.1275 -0.2125\n",
       "  0.2893 -0.0784 -0.3883  0.3834\n",
       "\n",
       "(0 ,2 ,.,.) = \n",
       "  0.4629 -0.2560 -0.1469  0.1486\n",
       " -0.3182  0.3069  0.1936 -0.1208\n",
       "  0.2018 -0.2792  0.2771  0.0259\n",
       " -0.1353 -0.5818  0.2726 -0.0511\n",
       "[torch.FloatTensor of size 1x3x4x4]"
      ]
     },
     "execution_count": 14,
     "metadata": {},
     "output_type": "execute_result"
    }
   ],
   "source": [
    "norm_layer(input)"
   ]
  }
 ],
 "metadata": {
  "kernelspec": {
   "display_name": "Python 3",
   "language": "python",
   "name": "python3"
  },
  "language_info": {
   "codemirror_mode": {
    "name": "ipython",
    "version": 3
   },
   "file_extension": ".py",
   "mimetype": "text/x-python",
   "name": "python",
   "nbconvert_exporter": "python",
   "pygments_lexer": "ipython3",
   "version": "3.5.2"
  }
 },
 "nbformat": 4,
 "nbformat_minor": 2
}
