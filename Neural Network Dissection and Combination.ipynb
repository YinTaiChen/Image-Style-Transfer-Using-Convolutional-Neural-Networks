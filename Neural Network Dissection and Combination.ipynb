{
 "cells": [
  {
   "cell_type": "markdown",
   "metadata": {},
   "source": [
    "# Neural Network Dissection and Combination"
   ]
  },
  {
   "cell_type": "markdown",
   "metadata": {},
   "source": [
    "Author: YinTaiChen"
   ]
  },
  {
   "cell_type": "code",
   "execution_count": 1,
   "metadata": {},
   "outputs": [],
   "source": [
    "import torchvision.models as models\n",
    "import torch.nn as nn"
   ]
  },
  {
   "cell_type": "code",
   "execution_count": 2,
   "metadata": {},
   "outputs": [],
   "source": [
    "cnn = models.vgg19(pretrained=False).features"
   ]
  },
  {
   "cell_type": "markdown",
   "metadata": {},
   "source": [
    "## Dissection"
   ]
  },
  {
   "cell_type": "code",
   "execution_count": 3,
   "metadata": {},
   "outputs": [
    {
     "name": "stdout",
     "output_type": "stream",
     "text": [
      "Conv2d (3, 64, kernel_size=(3, 3), stride=(1, 1), padding=(1, 1)) \n",
      "\n",
      "ReLU(inplace) \n",
      "\n",
      "Conv2d (64, 64, kernel_size=(3, 3), stride=(1, 1), padding=(1, 1)) \n",
      "\n",
      "ReLU(inplace) \n",
      "\n",
      "MaxPool2d(kernel_size=(2, 2), stride=(2, 2), dilation=(1, 1)) \n",
      "\n",
      "Conv2d (64, 128, kernel_size=(3, 3), stride=(1, 1), padding=(1, 1)) \n",
      "\n",
      "ReLU(inplace) \n",
      "\n",
      "Conv2d (128, 128, kernel_size=(3, 3), stride=(1, 1), padding=(1, 1)) \n",
      "\n",
      "ReLU(inplace) \n",
      "\n",
      "MaxPool2d(kernel_size=(2, 2), stride=(2, 2), dilation=(1, 1)) \n",
      "\n",
      "Conv2d (128, 256, kernel_size=(3, 3), stride=(1, 1), padding=(1, 1)) \n",
      "\n",
      "ReLU(inplace) \n",
      "\n",
      "Conv2d (256, 256, kernel_size=(3, 3), stride=(1, 1), padding=(1, 1)) \n",
      "\n",
      "ReLU(inplace) \n",
      "\n",
      "Conv2d (256, 256, kernel_size=(3, 3), stride=(1, 1), padding=(1, 1)) \n",
      "\n",
      "ReLU(inplace) \n",
      "\n",
      "Conv2d (256, 256, kernel_size=(3, 3), stride=(1, 1), padding=(1, 1)) \n",
      "\n",
      "ReLU(inplace) \n",
      "\n",
      "MaxPool2d(kernel_size=(2, 2), stride=(2, 2), dilation=(1, 1)) \n",
      "\n",
      "Conv2d (256, 512, kernel_size=(3, 3), stride=(1, 1), padding=(1, 1)) \n",
      "\n",
      "ReLU(inplace) \n",
      "\n",
      "Conv2d (512, 512, kernel_size=(3, 3), stride=(1, 1), padding=(1, 1)) \n",
      "\n",
      "ReLU(inplace) \n",
      "\n",
      "Conv2d (512, 512, kernel_size=(3, 3), stride=(1, 1), padding=(1, 1)) \n",
      "\n",
      "ReLU(inplace) \n",
      "\n",
      "Conv2d (512, 512, kernel_size=(3, 3), stride=(1, 1), padding=(1, 1)) \n",
      "\n",
      "ReLU(inplace) \n",
      "\n",
      "MaxPool2d(kernel_size=(2, 2), stride=(2, 2), dilation=(1, 1)) \n",
      "\n",
      "Conv2d (512, 512, kernel_size=(3, 3), stride=(1, 1), padding=(1, 1)) \n",
      "\n",
      "ReLU(inplace) \n",
      "\n",
      "Conv2d (512, 512, kernel_size=(3, 3), stride=(1, 1), padding=(1, 1)) \n",
      "\n",
      "ReLU(inplace) \n",
      "\n",
      "Conv2d (512, 512, kernel_size=(3, 3), stride=(1, 1), padding=(1, 1)) \n",
      "\n",
      "ReLU(inplace) \n",
      "\n",
      "Conv2d (512, 512, kernel_size=(3, 3), stride=(1, 1), padding=(1, 1)) \n",
      "\n",
      "ReLU(inplace) \n",
      "\n",
      "MaxPool2d(kernel_size=(2, 2), stride=(2, 2), dilation=(1, 1)) \n",
      "\n"
     ]
    }
   ],
   "source": [
    "layers = []\n",
    "for layer in list(cnn):\n",
    "    print(layer, '\\n')\n",
    "    layers.append(layer)"
   ]
  },
  {
   "cell_type": "markdown",
   "metadata": {},
   "source": [
    "## Combination"
   ]
  },
  {
   "cell_type": "code",
   "execution_count": 4,
   "metadata": {},
   "outputs": [],
   "source": [
    "new_cnn = nn.Sequential()\n",
    "\n",
    "c = 1\n",
    "r = 1\n",
    "p = 1\n",
    "for layer in layers:\n",
    "    if isinstance(layer, nn.Conv2d):\n",
    "        name = \"conv_\" + str(c)\n",
    "        new_cnn.add_module(name, layer)\n",
    "        c += 1\n",
    "    if isinstance(layer, nn.ReLU):\n",
    "        name = \"relu_\" + str(r)\n",
    "        new_cnn.add_module(name, layer)\n",
    "        r += 1\n",
    "    if isinstance(layer, nn.MaxPool2d):\n",
    "        name = \"pool_\" + str(p)\n",
    "        new_cnn.add_module(name, layer)\n",
    "        p += 1"
   ]
  },
  {
   "cell_type": "code",
   "execution_count": 5,
   "metadata": {},
   "outputs": [
    {
     "name": "stdout",
     "output_type": "stream",
     "text": [
      "Sequential(\n",
      "  (conv_1): Conv2d (3, 64, kernel_size=(3, 3), stride=(1, 1), padding=(1, 1))\n",
      "  (relu_1): ReLU(inplace)\n",
      "  (conv_2): Conv2d (64, 64, kernel_size=(3, 3), stride=(1, 1), padding=(1, 1))\n",
      "  (relu_2): ReLU(inplace)\n",
      "  (pool_1): MaxPool2d(kernel_size=(2, 2), stride=(2, 2), dilation=(1, 1))\n",
      "  (conv_3): Conv2d (64, 128, kernel_size=(3, 3), stride=(1, 1), padding=(1, 1))\n",
      "  (relu_3): ReLU(inplace)\n",
      "  (conv_4): Conv2d (128, 128, kernel_size=(3, 3), stride=(1, 1), padding=(1, 1))\n",
      "  (relu_4): ReLU(inplace)\n",
      "  (pool_2): MaxPool2d(kernel_size=(2, 2), stride=(2, 2), dilation=(1, 1))\n",
      "  (conv_5): Conv2d (128, 256, kernel_size=(3, 3), stride=(1, 1), padding=(1, 1))\n",
      "  (relu_5): ReLU(inplace)\n",
      "  (conv_6): Conv2d (256, 256, kernel_size=(3, 3), stride=(1, 1), padding=(1, 1))\n",
      "  (relu_6): ReLU(inplace)\n",
      "  (conv_7): Conv2d (256, 256, kernel_size=(3, 3), stride=(1, 1), padding=(1, 1))\n",
      "  (relu_7): ReLU(inplace)\n",
      "  (conv_8): Conv2d (256, 256, kernel_size=(3, 3), stride=(1, 1), padding=(1, 1))\n",
      "  (relu_8): ReLU(inplace)\n",
      "  (pool_3): MaxPool2d(kernel_size=(2, 2), stride=(2, 2), dilation=(1, 1))\n",
      "  (conv_9): Conv2d (256, 512, kernel_size=(3, 3), stride=(1, 1), padding=(1, 1))\n",
      "  (relu_9): ReLU(inplace)\n",
      "  (conv_10): Conv2d (512, 512, kernel_size=(3, 3), stride=(1, 1), padding=(1, 1))\n",
      "  (relu_10): ReLU(inplace)\n",
      "  (conv_11): Conv2d (512, 512, kernel_size=(3, 3), stride=(1, 1), padding=(1, 1))\n",
      "  (relu_11): ReLU(inplace)\n",
      "  (conv_12): Conv2d (512, 512, kernel_size=(3, 3), stride=(1, 1), padding=(1, 1))\n",
      "  (relu_12): ReLU(inplace)\n",
      "  (pool_4): MaxPool2d(kernel_size=(2, 2), stride=(2, 2), dilation=(1, 1))\n",
      "  (conv_13): Conv2d (512, 512, kernel_size=(3, 3), stride=(1, 1), padding=(1, 1))\n",
      "  (relu_13): ReLU(inplace)\n",
      "  (conv_14): Conv2d (512, 512, kernel_size=(3, 3), stride=(1, 1), padding=(1, 1))\n",
      "  (relu_14): ReLU(inplace)\n",
      "  (conv_15): Conv2d (512, 512, kernel_size=(3, 3), stride=(1, 1), padding=(1, 1))\n",
      "  (relu_15): ReLU(inplace)\n",
      "  (conv_16): Conv2d (512, 512, kernel_size=(3, 3), stride=(1, 1), padding=(1, 1))\n",
      "  (relu_16): ReLU(inplace)\n",
      "  (pool_5): MaxPool2d(kernel_size=(2, 2), stride=(2, 2), dilation=(1, 1))\n",
      ")\n"
     ]
    }
   ],
   "source": [
    "print(new_cnn)"
   ]
  }
 ],
 "metadata": {
  "kernelspec": {
   "display_name": "Python 3",
   "language": "python",
   "name": "python3"
  },
  "language_info": {
   "codemirror_mode": {
    "name": "ipython",
    "version": 3
   },
   "file_extension": ".py",
   "mimetype": "text/x-python",
   "name": "python",
   "nbconvert_exporter": "python",
   "pygments_lexer": "ipython3",
   "version": "3.5.2"
  }
 },
 "nbformat": 4,
 "nbformat_minor": 2
}
